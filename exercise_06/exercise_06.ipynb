{
 "cells": [
  {
   "cell_type": "code",
   "execution_count": 405,
   "id": "d7172d7f",
   "metadata": {},
   "outputs": [],
   "source": [
    "import torch\n",
    "import torch.nn as nn\n",
    "import torch.nn.functional as F\n",
    "from torch import optim\n",
    "import numpy as np\n",
    "from datasets import load_dataset, concatenate_datasets"
   ]
  },
  {
   "cell_type": "markdown",
   "id": "911c3ae1c5c87a5b",
   "metadata": {},
   "source": [
    "# Exercise 6: Attention"
   ]
  },
  {
   "cell_type": "markdown",
   "id": "6259e4d1",
   "metadata": {},
   "source": [
    "# Loading data"
   ]
  },
  {
   "cell_type": "code",
   "execution_count": 406,
   "id": "b9bd249ac0f512cd",
   "metadata": {},
   "outputs": [],
   "source": [
    "from gensim.downloader import load as gensim_load\n",
    "\n",
    "glove = gensim_load(\"glove-wiki-gigaword-100\")"
   ]
  },
  {
   "cell_type": "code",
   "execution_count": 407,
   "id": "cb92582c",
   "metadata": {},
   "outputs": [],
   "source": [
    "full_ds_dict = load_dataset(\"imdb\")\n",
    "ds_train_full = full_ds_dict[\"train\"]\n",
    "ds_test_full = full_ds_dict[\"test\"]"
   ]
  },
  {
   "cell_type": "code",
   "execution_count": 408,
   "id": "307022694dda76ac",
   "metadata": {},
   "outputs": [],
   "source": [
    "from datasets import Dataset as HFDataset\n",
    "\n",
    "\n",
    "def sample_imdb(ds: HFDataset, n_samples: int) -> HFDataset:\n",
    "    \"\"\"\n",
    "    Sample n_samples from the imdb dataset, ensuring that the dataset is balanced.\n",
    "    \"\"\"\n",
    "    # How many samples per class\n",
    "    n_per_class = n_samples // 2\n",
    "\n",
    "    # Filter each class\n",
    "    pos = (\n",
    "        ds.filter(lambda x: x[\"label\"] == 1).shuffle(seed=42).select(range(n_per_class))\n",
    "    )\n",
    "    neg = (\n",
    "        ds.filter(lambda x: x[\"label\"] == 0).shuffle(seed=42).select(range(n_per_class))\n",
    "    )\n",
    "\n",
    "    # Combine and shuffle\n",
    "    balanced = concatenate_datasets([pos, neg]).shuffle(seed=42)\n",
    "\n",
    "    return balanced\n"
   ]
  },
  {
   "cell_type": "code",
   "execution_count": 409,
   "id": "bc258189",
   "metadata": {},
   "outputs": [],
   "source": [
    "TRAIN_SAMPLES = 1000\n",
    "\n",
    "assert isinstance(ds_train_full, HFDataset)\n",
    "ds_train = sample_imdb(ds_train_full, TRAIN_SAMPLES)\n",
    "\n",
    "assert (\n",
    "    ds_train.filter(lambda x: x[\"label\"] == 1).num_rows\n",
    "    == ds_train.filter(lambda x: x[\"label\"] == 0).num_rows\n",
    ")"
   ]
  },
  {
   "cell_type": "code",
   "execution_count": 410,
   "id": "c51cbf67",
   "metadata": {},
   "outputs": [
    {
     "data": {
      "text/plain": [
       "Dataset({\n",
       "    features: ['text', 'label'],\n",
       "    num_rows: 1000\n",
       "})"
      ]
     },
     "execution_count": 410,
     "metadata": {},
     "output_type": "execute_result"
    }
   ],
   "source": [
    "ds_train"
   ]
  },
  {
   "cell_type": "markdown",
   "id": "95293453",
   "metadata": {},
   "source": [
    "# Tokenization"
   ]
  },
  {
   "cell_type": "code",
   "execution_count": 411,
   "id": "811ea79b",
   "metadata": {},
   "outputs": [
    {
     "data": {
      "text/plain": [
       "['this', 'is', 'a', 'sentence', 'with', 'an', 'unknown', 'word', 'supermuel']"
      ]
     },
     "execution_count": 411,
     "metadata": {},
     "output_type": "execute_result"
    }
   ],
   "source": [
    "import re\n",
    "\n",
    "\n",
    "def tokenize(review: str) -> list[str]:\n",
    "    # Convert to lowercase\n",
    "    text = review.lower()\n",
    "\n",
    "    # Remove all numbers entirely from the text\n",
    "    text = re.sub(r\"\\d+\", \"\", text)\n",
    "\n",
    "    # on word boundaries and ignores punctuation\n",
    "    tokens: list[str] = re.findall(r\"\\w+\", text)\n",
    "\n",
    "    return tokens\n",
    "\n",
    "\n",
    "sample_sentence = \"This is a sentence with an unknown word: supermuel\"\n",
    "\n",
    "tokenized = tokenize(sample_sentence)\n",
    "tokenized[:15]"
   ]
  },
  {
   "cell_type": "code",
   "execution_count": 412,
   "id": "ca592214",
   "metadata": {},
   "outputs": [
    {
     "name": "stdout",
     "output_type": "stream",
     "text": [
      "['this', 'is', 'a', 'sentence', 'with', 'an', 'unknown', 'word', '<unk>']\n",
      "['this', 'is', 'a', 'sentence', 'with', 'an', 'unknown', 'word', '<unk>', '<pad>', '<pad>', '<pad>', '<pad>', '<pad>', '<pad>']\n"
     ]
    }
   ],
   "source": [
    "from typing import Any\n",
    "\n",
    "UNK_TOKEN = \"<unk>\"\n",
    "\n",
    "\n",
    "def remove_tokens_not_in_glove(\n",
    "    tokens: list[str],\n",
    "    glove: Any,\n",
    "    unk_token: str = UNK_TOKEN,\n",
    ") -> list[str]:\n",
    "    return [token if token in glove else unk_token for token in tokens]\n",
    "\n",
    "\n",
    "PAD_TOKEN = \"<pad>\"\n",
    "\n",
    "\n",
    "def pad_or_truncate(\n",
    "    tokens: list[str],\n",
    "    sequence_length: int,\n",
    "    pad_token: str = PAD_TOKEN,\n",
    ") -> list[str]:\n",
    "    truncated = tokens[:sequence_length]\n",
    "    return truncated + [pad_token] * (sequence_length - len(truncated))\n",
    "\n",
    "\n",
    "with_tokens_removed = remove_tokens_not_in_glove(tokenized, glove=glove)\n",
    "print(with_tokens_removed)\n",
    "\n",
    "padded = pad_or_truncate(with_tokens_removed, sequence_length=15)\n",
    "print(padded)"
   ]
  },
  {
   "cell_type": "code",
   "execution_count": 413,
   "id": "8161194cf4545ec7",
   "metadata": {},
   "outputs": [
    {
     "data": {
      "text/plain": [
       "['this',\n",
       " 'is',\n",
       " 'a',\n",
       " 'sentence',\n",
       " 'with',\n",
       " 'an',\n",
       " 'unknown',\n",
       " 'word',\n",
       " '<unk>',\n",
       " '<pad>',\n",
       " '<pad>',\n",
       " '<pad>',\n",
       " '<pad>',\n",
       " '<pad>',\n",
       " '<pad>']"
      ]
     },
     "execution_count": 413,
     "metadata": {},
     "output_type": "execute_result"
    }
   ],
   "source": [
    "def preprocess_review(\n",
    "    review: str,\n",
    "    sequence_length: int,\n",
    "    glove: Any,\n",
    "    unk_token: str = UNK_TOKEN,\n",
    "    pad_token: str = PAD_TOKEN,\n",
    ") -> list[str]:\n",
    "    tokens = tokenize(review)\n",
    "    tokens = remove_tokens_not_in_glove(tokens, glove, unk_token)\n",
    "    tokens = pad_or_truncate(tokens, sequence_length, pad_token)\n",
    "    return tokens\n",
    "\n",
    "\n",
    "preprocess_review(sample_sentence, sequence_length=15, glove=glove)"
   ]
  },
  {
   "cell_type": "markdown",
   "id": "3172fb88",
   "metadata": {},
   "source": [
    "## Tokenize IMDB"
   ]
  },
  {
   "cell_type": "code",
   "execution_count": 414,
   "id": "c1bb771b",
   "metadata": {},
   "outputs": [
    {
     "name": "stderr",
     "output_type": "stream",
     "text": [
      "Map: 100%|██████████| 1000/1000 [00:00<00:00, 6744.05 examples/s]\n",
      "Map: 100%|██████████| 1000/1000 [00:00<00:00, 30686.14 examples/s]\n"
     ]
    },
    {
     "data": {
      "text/plain": [
       "Dataset({\n",
       "    features: ['text', 'label', 'tokens', 'input_ids'],\n",
       "    num_rows: 1000\n",
       "})"
      ]
     },
     "execution_count": 414,
     "metadata": {},
     "output_type": "execute_result"
    }
   ],
   "source": [
    "TRAIN_SAMPLES = 1000\n",
    "ds_train = sample_imdb(ds_train, TRAIN_SAMPLES)\n",
    "\n",
    "\n",
    "def pre_process_dataset(\n",
    "    ds: HFDataset,\n",
    "    sequence_length: int,\n",
    "    glove: Any,\n",
    "    unk_token: str = UNK_TOKEN,\n",
    "    pad_token: str = PAD_TOKEN,\n",
    ") -> tuple[HFDataset, list[str], dict[str, int], dict[int, str]]:\n",
    "    ds = ds.map(\n",
    "        lambda x: {\n",
    "            \"tokens\": preprocess_review(\n",
    "                x[\"text\"], sequence_length, glove, unk_token, pad_token\n",
    "            )\n",
    "        }\n",
    "    )\n",
    "\n",
    "    vocab: list[str] = sorted(\n",
    "        list(set(token for review in ds[\"tokens\"] for token in review))\n",
    "    )\n",
    "\n",
    "    if PAD_TOKEN not in vocab:\n",
    "        vocab.insert(0, PAD_TOKEN)\n",
    "    if UNK_TOKEN not in vocab:\n",
    "        vocab.insert(1, UNK_TOKEN)\n",
    "\n",
    "    assert vocab[0] == PAD_TOKEN\n",
    "    assert vocab[1] == UNK_TOKEN\n",
    "\n",
    "    word_to_idx = {word: i for i, word in enumerate(vocab)}\n",
    "    idx_to_word = {i: word for word, i in word_to_idx.items()}\n",
    "\n",
    "    ds = ds.map(lambda x: {\"input_ids\": [word_to_idx[token] for token in x[\"tokens\"]]})\n",
    "\n",
    "    return ds, vocab, word_to_idx, idx_to_word\n",
    "\n",
    "\n",
    "ds_train, vocab, word_to_idx, idx_to_word = pre_process_dataset(\n",
    "    ds_train, sequence_length=15, glove=glove\n",
    ")\n",
    "ds_train"
   ]
  },
  {
   "cell_type": "code",
   "execution_count": 415,
   "id": "72ffc983",
   "metadata": {},
   "outputs": [
    {
     "data": {
      "text/plain": [
       "(['the',\n",
       "  'cast',\n",
       "  'of',\n",
       "  'this',\n",
       "  'film',\n",
       "  'contain',\n",
       "  'some',\n",
       "  'of',\n",
       "  'new',\n",
       "  'zealander',\n",
       "  's',\n",
       "  'better',\n",
       "  'actors',\n",
       "  'many',\n",
       "  'of'],\n",
       " [2810,\n",
       "  431,\n",
       "  1969,\n",
       "  2831,\n",
       "  1057,\n",
       "  589,\n",
       "  2629,\n",
       "  1969,\n",
       "  1910,\n",
       "  3174,\n",
       "  2421,\n",
       "  291,\n",
       "  30,\n",
       "  1726,\n",
       "  1969])"
      ]
     },
     "execution_count": 415,
     "metadata": {},
     "output_type": "execute_result"
    }
   ],
   "source": [
    "ds_train[0][\"tokens\"][:15], ds_train[0][\"input_ids\"][:15]"
   ]
  },
  {
   "cell_type": "code",
   "execution_count": 416,
   "id": "863fdb91",
   "metadata": {},
   "outputs": [
    {
     "name": "stdout",
     "output_type": "stream",
     "text": [
      "Vocabulary size: 3181\n"
     ]
    }
   ],
   "source": [
    "print(f\"Vocabulary size: {len(word_to_idx)}\")"
   ]
  },
  {
   "cell_type": "markdown",
   "id": "7a3ac587",
   "metadata": {},
   "source": [
    "## Vectorize"
   ]
  },
  {
   "cell_type": "code",
   "execution_count": 417,
   "id": "74e9d1bb",
   "metadata": {},
   "outputs": [
    {
     "name": "stdout",
     "output_type": "stream",
     "text": [
      "embedding_matrix.shape=torch.Size([3181, 100])\n"
     ]
    }
   ],
   "source": [
    "def create_embedding_matrix(glove: Any, word_to_idx: dict[str, int]) -> torch.Tensor:\n",
    "    \"\"\"\n",
    "    Create an embedding matrix from a GloVe model and a word-to-index mapping.\n",
    "\n",
    "    Args:\n",
    "        glove: The GloVe model instance.\n",
    "        word_to_idx: Mapping from word to index.\n",
    "\n",
    "    Returns:\n",
    "        A torch.Tensor of shape (vocab_size, embedding_dim).\n",
    "    \"\"\"\n",
    "    embedding_dim: int = glove.vector_size  # type: ignore\n",
    "    embedding_matrix = np.zeros((len(word_to_idx), embedding_dim))\n",
    "    for word, i in word_to_idx.items():\n",
    "        if word in glove:\n",
    "            embedding_matrix[i] = glove[word]  # type: ignore\n",
    "        # else, it remains a zero vector (for <unk>, <pad>, etc.)\n",
    "    embedding_matrix_tensor = torch.tensor(embedding_matrix, dtype=torch.float32)\n",
    "    return embedding_matrix_tensor\n",
    "\n",
    "\n",
    "embedding_matrix = create_embedding_matrix(glove, word_to_idx)\n",
    "print(f\"{embedding_matrix.shape=}\")"
   ]
  },
  {
   "cell_type": "code",
   "execution_count": 418,
   "id": "0e738ac1",
   "metadata": {},
   "outputs": [
    {
     "name": "stdout",
     "output_type": "stream",
     "text": [
      "Sample input tensor shape: torch.Size([15])\n",
      "Sample label tensor shape: torch.Size([1])\n",
      "--------------------\n"
     ]
    }
   ],
   "source": [
    "class IMDBReviewDataset(torch.utils.data.Dataset):\n",
    "    \"\"\"\n",
    "    Custom PyTorch Dataset for the IMDB reviews.\n",
    "    It takes a Hugging Face Dataset object and prepares items for PyTorch.\n",
    "    \"\"\"\n",
    "\n",
    "    def __init__(self, hf_dataset: HFDataset):\n",
    "        self.hf_dataset = hf_dataset\n",
    "        if \"input_ids\" not in self.hf_dataset.column_names:\n",
    "            raise ValueError(\"input_ids column not found in dataset\")\n",
    "        if \"label\" not in self.hf_dataset.column_names:\n",
    "            raise ValueError(\"label column not found in dataset\")\n",
    "\n",
    "    def __len__(self):\n",
    "        \"\"\"Returns the total number of samples in the dataset.\"\"\"\n",
    "        return len(self.hf_dataset)\n",
    "\n",
    "    def __getitem__(self, idx):\n",
    "        \"\"\"\n",
    "        Fetches the sample at the given index and converts it to PyTorch tensors.\n",
    "        \"\"\"\n",
    "        # Get the sample from the Hugging Face dataset\n",
    "        sample = self.hf_dataset[idx]\n",
    "\n",
    "        # Extract input_ids and label\n",
    "        input_ids = sample[\"input_ids\"]\n",
    "        label = sample[\"label\"]\n",
    "\n",
    "        # Convert to PyTorch Tensors\n",
    "        # input_ids should be LongTensor for the embedding layer\n",
    "        input_tensor = torch.tensor(input_ids, dtype=torch.long)\n",
    "\n",
    "        # label should be a FloatTensor for the loss function (e.g., BCEWithLogitsLoss)\n",
    "        # We also add a dimension to make its shape [1] instead of a scalar\n",
    "        label_tensor = torch.tensor(label, dtype=torch.float32).unsqueeze(0)\n",
    "\n",
    "        return input_tensor, label_tensor\n",
    "\n",
    "\n",
    "# Create an instance of our custom dataset\n",
    "pytorch_train_dataset = IMDBReviewDataset(ds_train)\n",
    "\n",
    "# Let's check one sample\n",
    "sample_input, sample_label = pytorch_train_dataset[0]\n",
    "print(f\"Sample input tensor shape: {sample_input.shape}\")\n",
    "print(f\"Sample label tensor shape: {sample_label.shape}\")\n",
    "print(\"-\" * 20)"
   ]
  },
  {
   "cell_type": "code",
   "execution_count": 419,
   "id": "ef678097e15837ba",
   "metadata": {},
   "outputs": [],
   "source": [
    "from math import sqrt\n",
    "\n",
    "\n",
    "class SelfAttention(nn.Module):\n",
    "    def __init__(self, d_model: int, d_k: int, d_v: int | None = None):\n",
    "        super().__init__()\n",
    "        if not d_v:\n",
    "            d_v = d_k\n",
    "\n",
    "        self.d_model = d_model\n",
    "        self.d_k = d_k\n",
    "        self.d_v = d_v\n",
    "\n",
    "        # define the weight matrices W_Q, W_K, and W_V\n",
    "\n",
    "        # Q takes the embedding of a word and returns what this word can ask for informations\n",
    "        self.W_Q = nn.Linear(in_features=d_model, out_features=d_k)\n",
    "        # K takes the embedding of a word and returns what it can provide as value (not the value itself)\n",
    "        self.W_K = nn.Linear(in_features=d_model, out_features=d_k)\n",
    "        # W_Q and W_K has the same out_features because we must compute the dot product of their outputs\n",
    "\n",
    "        # V takes the embedding of a word, and returns its value.\n",
    "        self.W_V = nn.Linear(in_features=d_model, out_features=d_v)\n",
    "\n",
    "    def forward(self, sentences: torch.Tensor, return_attention: bool = False):\n",
    "        # sentences is of shape (batch_size, sentence_length, d_model)\n",
    "\n",
    "        batch_size, sentence_length, d_model = sentences.shape\n",
    "        assert d_model == self.d_model\n",
    "\n",
    "        Q = self.W_Q(sentences)  # (batch_size, sentence_length, d_k)\n",
    "        K = self.W_K(sentences)  # (batch_size, sentence_length, d_k)\n",
    "        V = self.W_V(sentences)  # (batch_size, sentence_length, d_v)\n",
    "\n",
    "        assert Q.shape == (batch_size, sentence_length, self.d_k)\n",
    "        assert K.shape == (batch_size, sentence_length, self.d_k)\n",
    "        assert V.shape == (batch_size, sentence_length, self.d_v)\n",
    "\n",
    "        raw_scores = Q @ K.transpose(-2, -1) / sqrt(self.d_k)\n",
    "        attention_scores = F.softmax(raw_scores, dim=2)\n",
    "\n",
    "        assert attention_scores.shape == (batch_size, sentence_length, sentence_length)\n",
    "\n",
    "        output = attention_scores @ V\n",
    "        # (batch_size, sentence_length, d_v)\n",
    "        \n",
    "        if return_attention:\n",
    "            return output, attention_scores\n",
    "        return output\n"
   ]
  },
  {
   "cell_type": "markdown",
   "id": "42c53e5b0a61c1e",
   "metadata": {},
   "source": [
    "## Task 2: Adding a Classification Layer"
   ]
  },
  {
   "cell_type": "code",
   "execution_count": 420,
   "id": "b59b5594f0e9dd5d",
   "metadata": {},
   "outputs": [],
   "source": [
    "class BinaryClassificationModel(nn.Module):\n",
    "    def __init__(\n",
    "        self,\n",
    "        embedding_matrix: torch.Tensor,\n",
    "        d_model: int,\n",
    "        d_k: int,\n",
    "        freeze_embedding: bool = False,\n",
    "    ) -> None:\n",
    "        super().__init__()\n",
    "\n",
    "        self.embedding = nn.Embedding.from_pretrained(\n",
    "            embedding_matrix, freeze=freeze_embedding\n",
    "        )\n",
    "\n",
    "        self.d_model = d_model\n",
    "        self.d_k = d_k\n",
    "\n",
    "        self.self_attention = SelfAttention(d_model=d_model, d_k=d_k, d_v=d_k)\n",
    "\n",
    "        self.linear = nn.Linear(in_features=d_k, out_features=1)\n",
    "\n",
    "    def forward(self, inputs, return_attention: bool = False):\n",
    "        # inputs is of shape (batch_size, sequence_length)\n",
    "\n",
    "        # Step 1: get the embeddings\n",
    "\n",
    "        embeddings = self.embedding(inputs)\n",
    "        # shape of embeddings (batch_size, sequence_length, d_model)\n",
    "\n",
    "        # Step 2: call self_attention\n",
    "        if return_attention:\n",
    "            attention_output, attention_weights = self.self_attention(embeddings, return_attention=True)\n",
    "        else:\n",
    "            attention_output = self.self_attention(embeddings, return_attention=False)\n",
    "        # shape of attention_output is of [batch_size, sequence_length, d_k]\n",
    "\n",
    "        # Step 3: apply linear\n",
    "        pooled_output = torch.mean(attention_output, dim=1)\n",
    "        # (batch_size, d_k)\n",
    "\n",
    "        logits = self.linear(pooled_output)\n",
    "        \n",
    "        if return_attention:\n",
    "            return logits, attention_weights\n",
    "        return logits"
   ]
  },
  {
   "cell_type": "markdown",
   "id": "f0b59c6e05c7cb0a",
   "metadata": {},
   "source": [
    "## Task 3: Training"
   ]
  },
  {
   "cell_type": "markdown",
   "id": "5d83bf00",
   "metadata": {},
   "source": [
    "### Prepare Training dataset"
   ]
  },
  {
   "cell_type": "code",
   "execution_count": 421,
   "id": "cedc7618",
   "metadata": {},
   "outputs": [
    {
     "name": "stderr",
     "output_type": "stream",
     "text": [
      "Map: 100%|██████████| 25000/25000 [00:03<00:00, 7462.34 examples/s]\n",
      "Map: 100%|██████████| 25000/25000 [00:08<00:00, 3101.34 examples/s]\n"
     ]
    },
    {
     "name": "stdout",
     "output_type": "stream",
     "text": [
      "Samples: 25000\n",
      "Vocab size: 58549\n",
      "embedding_matrix.shape=torch.Size([58549, 100])\n",
      "Sample input tensor shape: torch.Size([512])\n",
      "Sample label tensor shape: torch.Size([1])\n"
     ]
    }
   ],
   "source": [
    "TRAIN_SAMPLES = 25000\n",
    "SEQUENCE_LENGTH = 512\n",
    "\n",
    "assert isinstance(ds_train_full, HFDataset)\n",
    "ds_train_unpreprocessed = sample_imdb(ds_train_full, TRAIN_SAMPLES)\n",
    "\n",
    "ds_train, vocab, word_to_idx, idx_to_word = pre_process_dataset(\n",
    "    ds_train_unpreprocessed, sequence_length=SEQUENCE_LENGTH, glove=glove\n",
    ")\n",
    "\n",
    "print(f\"Samples: {len(ds_train)}\")\n",
    "print(f\"Vocab size: {len(vocab)}\")\n",
    "\n",
    "embedding_matrix = create_embedding_matrix(glove, word_to_idx)\n",
    "print(f\"{embedding_matrix.shape=}\")\n",
    "\n",
    "pytorch_train_dataset = IMDBReviewDataset(ds_train)\n",
    "\n",
    "# Check one sample\n",
    "sample_input, sample_label = pytorch_train_dataset[0]\n",
    "print(f\"Sample input tensor shape: {sample_input.shape}\")\n",
    "print(f\"Sample label tensor shape: {sample_label.shape}\")"
   ]
  },
  {
   "cell_type": "markdown",
   "id": "12b2de5f",
   "metadata": {},
   "source": [
    "### Prepare testing dataset"
   ]
  },
  {
   "cell_type": "code",
   "execution_count": 422,
   "id": "8afc3927",
   "metadata": {},
   "outputs": [
    {
     "name": "stderr",
     "output_type": "stream",
     "text": [
      "Map: 100%|██████████| 1000/1000 [00:00<00:00, 6582.80 examples/s]\n"
     ]
    }
   ],
   "source": [
    "# 1. Create a balanced test sample\n",
    "TEST_SAMPLES = 1000\n",
    "assert isinstance(ds_test_full, HFDataset)\n",
    "ds_test_unpreprocessed = sample_imdb(ds_test_full, TEST_SAMPLES)\n",
    "\n",
    "\n",
    "# 2. Pre-process the test dataset\n",
    "def process_test_data(\n",
    "    ds: HFDataset, word_to_idx: dict[str, int], sequence_length: int, glove: Any\n",
    ") -> HFDataset:\n",
    "    # This simplified function processes text using the *existing* vocabulary\n",
    "    def text_to_ids(example):\n",
    "        tokens = preprocess_review(example[\"text\"], sequence_length, glove)\n",
    "        # Map tokens to indices, using the <unk> index for words not in the training vocab\n",
    "        unk_idx = word_to_idx[UNK_TOKEN]\n",
    "        input_ids = [word_to_idx.get(token, unk_idx) for token in tokens]\n",
    "        return {\"input_ids\": input_ids}\n",
    "\n",
    "    ds = ds.map(text_to_ids)\n",
    "    return ds\n",
    "\n",
    "\n",
    "ds_test = process_test_data(ds_test_unpreprocessed, word_to_idx, SEQUENCE_LENGTH, glove)\n",
    "\n",
    "# 3. Create the PyTorch Dataset and DataLoader for testing\n",
    "pytorch_test_dataset = IMDBReviewDataset(ds_test)\n",
    "\n",
    "\n",
    "def _manual_f1_score(y_true: list[float], y_pred: list[float]) -> float:\n",
    "    \"\"\"Compute F1 score manually for binary classification.\"\"\"\n",
    "    # Convert to int for safety\n",
    "    y_true_int = [int(round(x)) for x in y_true]\n",
    "    y_pred_int = [int(round(x)) for x in y_pred]\n",
    "    tp = sum(1 for yt, yp in zip(y_true_int, y_pred_int) if yt == 1 and yp == 1)\n",
    "    fp = sum(1 for yt, yp in zip(y_true_int, y_pred_int) if yt == 0 and yp == 1)\n",
    "    fn = sum(1 for yt, yp in zip(y_true_int, y_pred_int) if yt == 1 and yp == 0)\n",
    "    # Precision and recall\n",
    "    precision = tp / (tp + fp) if (tp + fp) > 0 else 0.0\n",
    "    recall = tp / (tp + fn) if (tp + fn) > 0 else 0.0\n",
    "    # F1\n",
    "    if precision + recall == 0:\n",
    "        return 0.0\n",
    "    return 2 * precision * recall / (precision + recall)\n",
    "\n",
    "\n",
    "def evaluate_model(\n",
    "    model: nn.Module,\n",
    "    dataloader: torch.utils.data.DataLoader,\n",
    "    criterion: nn.Module,\n",
    "    device: torch.device,\n",
    ") -> tuple[float, float, float]:\n",
    "    model.eval()  # Set model to evaluation mode\n",
    "    running_loss = 0.0\n",
    "    correct_predictions = 0\n",
    "    total_samples = 0\n",
    "    all_labels: list[float] = []\n",
    "    all_preds: list[float] = []\n",
    "\n",
    "    with torch.no_grad():  # Disable gradient calculation\n",
    "        for inputs, labels in dataloader:\n",
    "            inputs = inputs.to(device)\n",
    "            labels = labels.float().to(device)\n",
    "\n",
    "            outputs = model(inputs)\n",
    "            loss = criterion(outputs, labels)\n",
    "\n",
    "            # --- Calculate Accuracy ---\n",
    "            # Get probabilities from logits\n",
    "            probs = torch.sigmoid(outputs)\n",
    "            # Get predictions (0 or 1) by rounding\n",
    "            predicted = torch.round(probs)\n",
    "\n",
    "            # Update counters\n",
    "            running_loss += loss.item() * inputs.size(0)\n",
    "            correct_predictions += (predicted == labels).sum().item()\n",
    "            total_samples += labels.size(0)\n",
    "\n",
    "            # Store for F1 calculation\n",
    "            all_labels.extend(labels.detach().cpu().numpy().flatten().tolist())\n",
    "            all_preds.extend(predicted.detach().cpu().numpy().flatten().tolist())\n",
    "\n",
    "    avg_loss = float(running_loss / total_samples)\n",
    "    accuracy = float(correct_predictions / total_samples)\n",
    "    f1 = float(_manual_f1_score(all_labels, all_preds))\n",
    "    return avg_loss, accuracy, f1"
   ]
  },
  {
   "cell_type": "markdown",
   "id": "345cee2a",
   "metadata": {},
   "source": [
    "### Actual Training"
   ]
  },
  {
   "cell_type": "code",
   "execution_count": 423,
   "id": "77d5cb32",
   "metadata": {},
   "outputs": [],
   "source": [
    "import torch\n",
    "from torch.utils.data import DataLoader\n",
    "import torch.nn as nn\n",
    "import torch.optim as optim\n",
    "from sklearn.metrics import f1_score\n",
    "import copy\n",
    "\n",
    "def train_and_evaluate_model(\n",
    "    model: nn.Module,\n",
    "    train_dataset: torch.utils.data.Dataset,\n",
    "    test_dataset: torch.utils.data.Dataset,\n",
    "    epochs: int,\n",
    "    batch_size: int,\n",
    "    lr: float,\n",
    "    device: torch.device,\n",
    "    patience: int = 5,\n",
    ") -> nn.Module:\n",
    "    model.to(device)\n",
    "    train_dataloader = DataLoader(train_dataset, batch_size=batch_size, shuffle=True)\n",
    "    test_dataloader = DataLoader(test_dataset, batch_size=batch_size)\n",
    "    \n",
    "    criterion = nn.BCEWithLogitsLoss()\n",
    "    optimizer = optim.Adam(model.parameters(), lr=lr)\n",
    "\n",
    "    best_model_wts = copy.deepcopy(model.state_dict())\n",
    "    best_f1 = float('-inf')\n",
    "    epochs_no_improve = 0\n",
    "\n",
    "    for epoch in range(epochs):\n",
    "        # --- Training Phase ---\n",
    "        model.train()\n",
    "        train_running_loss = 0.0\n",
    "        correct_train_predictions = 0\n",
    "        total_train_samples = 0\n",
    "        all_train_labels: list[float] = []\n",
    "        all_train_preds: list[float] = []\n",
    "        for inputs, labels in train_dataloader:\n",
    "            inputs = inputs.to(device)\n",
    "            labels = labels.float().to(device)\n",
    "\n",
    "            optimizer.zero_grad()\n",
    "            outputs = model(inputs)\n",
    "            loss = criterion(outputs, labels)\n",
    "            loss.backward()\n",
    "            optimizer.step()\n",
    "\n",
    "            train_running_loss += loss.item() * inputs.size(0)\n",
    "\n",
    "            # Calculate training accuracy and F1\n",
    "            probs = torch.sigmoid(outputs)\n",
    "            predicted = torch.round(probs)\n",
    "            correct_train_predictions += (predicted == labels).sum().item()\n",
    "            total_train_samples += labels.size(0)\n",
    "\n",
    "            all_train_labels.extend(labels.detach().cpu().numpy().flatten().tolist())\n",
    "            all_train_preds.extend(predicted.detach().cpu().numpy().flatten().tolist())\n",
    "\n",
    "        epoch_train_loss = train_running_loss / len(train_dataset) # type: ignore\n",
    "        epoch_train_acc = correct_train_predictions / total_train_samples\n",
    "        epoch_train_f1 = f1_score(all_train_labels, all_train_preds)\n",
    "\n",
    "        # --- Evaluation Phase ---\n",
    "        epoch_test_loss, epoch_test_acc, epoch_test_f1 = evaluate_model(model, test_dataloader, criterion, device)\n",
    "        \n",
    "        print(f\"Epoch {epoch + 1}/{epochs} | \"\n",
    "              f\"Train Loss: {epoch_train_loss:.4f} | \"\n",
    "              f\"Train Acc: {epoch_train_acc:.4f} | \"\n",
    "              f\"Train F1: {epoch_train_f1:.4f} | \"\n",
    "              f\"Test Loss: {epoch_test_loss:.4f} | \"\n",
    "              f\"Test Acc: {epoch_test_acc:.4f} | \"\n",
    "              f\"Test F1: {epoch_test_f1:.4f}\")\n",
    "\n",
    "        # --- Early Stopping Check ---\n",
    "        if epoch_test_f1 > best_f1:\n",
    "            best_f1 = epoch_test_f1\n",
    "            best_model_wts = copy.deepcopy(model.state_dict())\n",
    "            epochs_no_improve = 0\n",
    "        else:\n",
    "            epochs_no_improve += 1\n",
    "            if epochs_no_improve >= patience:\n",
    "                print(f\"Early stopping at epoch {epoch + 1}. Best Test F1: {best_f1:.4f}\")\n",
    "                break\n",
    "\n",
    "    # Load best model weights before returning\n",
    "    model.load_state_dict(best_model_wts)\n",
    "    return model\n"
   ]
  },
  {
   "cell_type": "code",
   "execution_count": 425,
   "id": "ebb29709",
   "metadata": {},
   "outputs": [
    {
     "name": "stdout",
     "output_type": "stream",
     "text": [
      "Using device mps\n",
      "BinaryClassificationModel(\n",
      "  (embedding): Embedding(58549, 100)\n",
      "  (self_attention): SelfAttention(\n",
      "    (W_Q): Linear(in_features=100, out_features=64, bias=True)\n",
      "    (W_K): Linear(in_features=100, out_features=64, bias=True)\n",
      "    (W_V): Linear(in_features=100, out_features=64, bias=True)\n",
      "  )\n",
      "  (linear): Linear(in_features=64, out_features=1, bias=True)\n",
      ")\n",
      "Epoch 1/20 | Train Loss: 0.6782 | Train Acc: 0.6090 | Train F1: 0.5903 | Test Loss: 0.6270 | Test Acc: 0.6810 | Test F1: 0.6930\n",
      "Epoch 2/20 | Train Loss: 0.5153 | Train Acc: 0.7738 | Train F1: 0.7793 | Test Loss: 0.4098 | Test Acc: 0.8410 | Test F1: 0.8461\n",
      "Epoch 3/20 | Train Loss: 0.3535 | Train Acc: 0.8563 | Train F1: 0.8565 | Test Loss: 0.3060 | Test Acc: 0.8690 | Test F1: 0.8694\n",
      "Epoch 4/20 | Train Loss: 0.2648 | Train Acc: 0.8916 | Train F1: 0.8919 | Test Loss: 0.2738 | Test Acc: 0.8820 | Test F1: 0.8813\n",
      "Epoch 5/20 | Train Loss: 0.2167 | Train Acc: 0.9137 | Train F1: 0.9138 | Test Loss: 0.2709 | Test Acc: 0.8810 | Test F1: 0.8814\n",
      "Epoch 6/20 | Train Loss: 0.1701 | Train Acc: 0.9350 | Train F1: 0.9351 | Test Loss: 0.3149 | Test Acc: 0.8690 | Test F1: 0.8651\n",
      "Epoch 7/20 | Train Loss: 0.1207 | Train Acc: 0.9572 | Train F1: 0.9572 | Test Loss: 0.3666 | Test Acc: 0.8530 | Test F1: 0.8511\n",
      "Epoch 8/20 | Train Loss: 0.0791 | Train Acc: 0.9744 | Train F1: 0.9745 | Test Loss: 0.4589 | Test Acc: 0.8400 | Test F1: 0.8364\n",
      "Epoch 9/20 | Train Loss: 0.0506 | Train Acc: 0.9836 | Train F1: 0.9837 | Test Loss: 0.5783 | Test Acc: 0.8160 | Test F1: 0.8071\n",
      "Epoch 10/20 | Train Loss: 0.0319 | Train Acc: 0.9914 | Train F1: 0.9914 | Test Loss: 0.7440 | Test Acc: 0.8080 | Test F1: 0.8012\n",
      "Early stopping at epoch 10. Best Test F1: 0.8814\n"
     ]
    }
   ],
   "source": [
    "D_MODEL = embedding_matrix.shape[1]\n",
    "D_K = 64\n",
    "EPOCHS = 20\n",
    "BATCH_SIZE = 512\n",
    "LR = 1e-3\n",
    "\n",
    "if torch.cuda.is_available():\n",
    "    DEVICE = \"cuda\"\n",
    "elif torch.backends.mps.is_available():\n",
    "    DEVICE = \"mps\"\n",
    "else:\n",
    "    DEVICE = \"cpu\"\n",
    "print(f\"Using device {DEVICE}\")\n",
    "\n",
    "model = BinaryClassificationModel(\n",
    "    embedding_matrix=embedding_matrix, d_model=D_MODEL, d_k=D_K\n",
    ")\n",
    "print(model)\n",
    "\n",
    "# --- Finally, update your function call ---\n",
    "model = train_and_evaluate_model(\n",
    "    model=model,\n",
    "    train_dataset=pytorch_train_dataset,\n",
    "    test_dataset=pytorch_test_dataset,\n",
    "    epochs=EPOCHS,\n",
    "    batch_size=BATCH_SIZE,\n",
    "    lr=LR,\n",
    "    device=DEVICE,\n",
    ")"
   ]
  },
  {
   "cell_type": "markdown",
   "id": "717b553763845ec",
   "metadata": {},
   "source": [
    "## Task 4: Inference"
   ]
  },
  {
   "cell_type": "code",
   "execution_count": 426,
   "id": "17123b49",
   "metadata": {},
   "outputs": [],
   "source": [
    "def predict_sentiment(\n",
    "    text: str,\n",
    "    model: nn.Module,\n",
    "    word_to_idx: dict[str, int],\n",
    "    sequence_length: int,\n",
    "    glove: Any,\n",
    "    device: torch.device,\n",
    ") -> str:\n",
    "    \"\"\"\n",
    "    Predicts the sentiment of a single text string using the trained model.\n",
    "    \"\"\"\n",
    "    # 1. Set model to evaluation mode\n",
    "    model.eval()\n",
    "\n",
    "    # 2. Preprocess the text\n",
    "    # This pipeline should be identical to the one used for training/testing\n",
    "    tokens = preprocess_review(text, sequence_length, glove)\n",
    "    \n",
    "    # Map tokens to indices, using the <unk> index for words not in the training vocab\n",
    "    unk_idx = word_to_idx[UNK_TOKEN]\n",
    "    input_ids = [word_to_idx.get(token, unk_idx) for token in tokens]\n",
    "\n",
    "    # 3. Convert to tensor and add batch dimension\n",
    "    input_tensor = torch.tensor(input_ids, dtype=torch.long).unsqueeze(0).to(device)\n",
    "    # Shape is now [1, sequence_length]\n",
    "\n",
    "    # 4. Run inference\n",
    "    with torch.no_grad():\n",
    "        output = model(input_tensor)\n",
    "        \n",
    "    # 5. Interpret the output\n",
    "    prob = torch.sigmoid(output).item()  # Get probability between 0 and 1\n",
    "    prediction = round(prob)             # Round to get 0 or 1\n",
    "\n",
    "    # 6. Return human-readable result\n",
    "    print(f\"Input Text: '{text}'\")\n",
    "    print(f\"Model Logit: {output.item():.4f}, Probability: {prob:.4f}\")\n",
    "    \n",
    "    if prediction == 1:\n",
    "        return \"Positive\"\n",
    "    else:\n",
    "        return \"Negative\"\n",
    "\n",
    "\n"
   ]
  },
  {
   "cell_type": "code",
   "execution_count": 427,
   "id": "2a027470",
   "metadata": {},
   "outputs": [
    {
     "name": "stdout",
     "output_type": "stream",
     "text": [
      "Input Text: 'This movie was fantastic and full of suspense!'\n",
      "Model Logit: 2.4368, Probability: 0.9196\n",
      "Predicted Sentiment: Positive\n",
      "\n",
      "Input Text: 'This movie was a complete waste of my time, truly bad.'\n",
      "Model Logit: -1.5069, Probability: 0.1814\n",
      "Predicted Sentiment: Negative\n",
      "\n",
      "Input Text: 'The acting was okay but the plot was a little predictable.'\n",
      "Model Logit: -1.2169, Probability: 0.2285\n",
      "Predicted Sentiment: Negative\n",
      "\n"
     ]
    }
   ],
   "source": [
    "# Example 1\n",
    "sentiment1 = predict_sentiment(\n",
    "    \"This movie was fantastic and full of suspense!\",\n",
    "    model, word_to_idx, SEQUENCE_LENGTH, glove, DEVICE\n",
    ")\n",
    "print(f\"Predicted Sentiment: {sentiment1}\\n\")\n",
    "\n",
    "\n",
    "# Example 2\n",
    "sentiment2 = predict_sentiment(\n",
    "    \"This movie was a complete waste of my time, truly bad.\",\n",
    "    model, word_to_idx, SEQUENCE_LENGTH, glove, DEVICE\n",
    ")\n",
    "print(f\"Predicted Sentiment: {sentiment2}\\n\")\n",
    "\n",
    "\n",
    "# Example 3 (A more neutral/tricky one)\n",
    "sentiment3 = predict_sentiment(\n",
    "    \"The acting was okay but the plot was a little predictable.\",\n",
    "    model, word_to_idx, SEQUENCE_LENGTH, glove, DEVICE\n",
    ")\n",
    "print(f\"Predicted Sentiment: {sentiment3}\\n\")"
   ]
  },
  {
   "cell_type": "code",
   "execution_count": 428,
   "id": "122f1cd1",
   "metadata": {},
   "outputs": [],
   "source": [
    "# x=embeddings(pad_token_id).unsqueeze(0).repeat(32, 1)\n",
    "# x, x.shape\n"
   ]
  },
  {
   "cell_type": "markdown",
   "id": "b74c67b7",
   "metadata": {},
   "source": [
    "## Task 5: Visualizing the Attention Matrix\n",
    "\n",
    "The attention matrix visualization helps us understand which words the model pays attention to when making predictions. In the heatmap:\n",
    "\n",
    "- **Rows (Query)**: Words that are \"asking\" for information\n",
    "- **Columns (Key)**: Words that are \"providing\" information  \n",
    "- **Brightness**: How much attention is paid between word pairs\n",
    "- **Diagonal**: Words attending to themselves (common in self-attention)\n",
    "\n",
    "The model uses these attention patterns to understand relationships between words before making the final sentiment prediction.\n"
   ]
  },
  {
   "cell_type": "code",
   "execution_count": 429,
   "id": "34d623b4",
   "metadata": {},
   "outputs": [],
   "source": [
    "import matplotlib.pyplot as plt\n",
    "import seaborn as sns\n",
    "\n",
    "def predict_and_visualize_attention(\n",
    "    text: str,\n",
    "    model: nn.Module,\n",
    "    word_to_idx: dict[str, int],\n",
    "    sequence_length: int,\n",
    "    glove: Any,\n",
    "    device: torch.device,\n",
    "):\n",
    "    \"\"\"\n",
    "    Predicts sentiment and visualizes the self-attention matrix for a single text.\n",
    "    \"\"\"\n",
    "    # 1. Set model to evaluation mode\n",
    "    model.eval()\n",
    "\n",
    "    # 2. Preprocess the text to get tokens and IDs\n",
    "    tokens = preprocess_review(text, sequence_length, glove)\n",
    "    unk_idx = word_to_idx[UNK_TOKEN]\n",
    "    input_ids = [word_to_idx.get(token, unk_idx) for token in tokens]\n",
    "\n",
    "    # 3. Convert to tensor and run inference to get attention weights\n",
    "    input_tensor = torch.tensor(input_ids, dtype=torch.long).unsqueeze(0).to(device)\n",
    "    with torch.no_grad():\n",
    "        logits, attention_weights = model(input_tensor, return_attention=True)\n",
    "\n",
    "    # 4. Process outputs\n",
    "    prob = torch.sigmoid(logits).item()\n",
    "    prediction = \"Positive\" if round(prob) == 1 else \"Negative\"\n",
    "    \n",
    "    # Squeeze the batch dimension and move to CPU for plotting\n",
    "    attention_matrix = attention_weights.squeeze(0).cpu().numpy()\n",
    "\n",
    "    # Get the actual tokens used (before padding)\n",
    "    actual_tokens = [token for token in tokens if token != PAD_TOKEN]\n",
    "    matrix_to_plot = attention_matrix[:len(actual_tokens), :len(actual_tokens)]\n",
    "\n",
    "    # 5. Plot the heatmap\n",
    "    plt.figure(figsize=(10, 8))\n",
    "    sns.heatmap(matrix_to_plot, xticklabels=actual_tokens, yticklabels=actual_tokens, cmap=\"viridis\")\n",
    "    plt.title(f\"Self-Attention Heatmap for a '{prediction}' Review\")\n",
    "    plt.xlabel(\"Key (Words providing information)\")\n",
    "    plt.ylabel(\"Query (Words asking for information)\")\n",
    "    plt.xticks(rotation=45, ha=\"right\")\n",
    "    plt.yticks(rotation=0)\n",
    "    plt.tight_layout()\n",
    "    plt.show()\n",
    "\n",
    "    print(f\"Input Text: '{text}'\")\n",
    "    print(f\"Predicted Sentiment: {prediction} (Probability: {prob:.4f})\")\n",
    "    print(f\"Logit: {logits.item():.4f}\")\n",
    "    print(f\"Attention matrix shape: {attention_matrix.shape}\")\n",
    "    print(f\"Number of non-padding tokens: {len(actual_tokens)}\")\n",
    "    \n",
    "    return prediction, prob, attention_matrix\n"
   ]
  },
  {
   "cell_type": "code",
   "execution_count": 430,
   "id": "715f0ca5",
   "metadata": {},
   "outputs": [
    {
     "name": "stdout",
     "output_type": "stream",
     "text": [
      "Example 1: Simple positive review\n"
     ]
    },
    {
     "data": {
      "image/png": "[encoded data removed]",
      "text/plain": [
       "<Figure size 1000x800 with 2 Axes>"
      ]
     },
     "metadata": {},
     "output_type": "display_data"
    },
    {
     "name": "stdout",
     "output_type": "stream",
     "text": [
      "Input Text: 'this movie was fantastic and amazing'\n",
      "Predicted Sentiment: Positive (Probability: 0.9614)\n",
      "Logit: 3.2156\n",
      "Attention matrix shape: (512, 512)\n",
      "Number of non-padding tokens: 6\n",
      "\n",
      "==================================================\n",
      "\n",
      "Example 2: Negative review\n"
     ]
    },
    {
     "data": {
      "image/png": "[encoded data removed]",
      "text/plain": [
       "<Figure size 1000x800 with 2 Axes>"
      ]
     },
     "metadata": {},
     "output_type": "display_data"
    },
    {
     "name": "stdout",
     "output_type": "stream",
     "text": [
      "Input Text: 'this movie was terrible and boring'\n",
      "Predicted Sentiment: Negative (Probability: 0.1565)\n",
      "Logit: -1.6846\n",
      "Attention matrix shape: (512, 512)\n",
      "Number of non-padding tokens: 6\n",
      "\n",
      "==================================================\n",
      "\n",
      "Example 3: Complex review with contrasting elements\n"
     ]
    },
    {
     "data": {
      "image/png": "[encoded data removed]",
      "text/plain": [
       "<Figure size 1000x800 with 2 Axes>"
      ]
     },
     "metadata": {},
     "output_type": "display_data"
    },
    {
     "name": "stdout",
     "output_type": "stream",
     "text": [
      "Input Text: 'the film was incredibly long but the acting was superb'\n",
      "Predicted Sentiment: Positive (Probability: 0.9236)\n",
      "Logit: 2.4925\n",
      "Attention matrix shape: (512, 512)\n",
      "Number of non-padding tokens: 10\n"
     ]
    },
    {
     "data": {
      "text/plain": [
       "('Positive',\n",
       " 0.9236170649528503,\n",
       " array([[8.8753831e-04, 4.0064051e-04, 1.4543154e-04, ..., 1.5461277e-03,\n",
       "         1.5461277e-03, 1.5461277e-03],\n",
       "        [1.2061716e-03, 2.7728602e-04, 6.7643443e-05, ..., 1.6271372e-04,\n",
       "         1.6271372e-04, 1.6271372e-04],\n",
       "        [4.2910342e-05, 5.3392647e-05, 9.3482213e-06, ..., 3.7382208e-04,\n",
       "         3.7382208e-04, 3.7382208e-04],\n",
       "        ...,\n",
       "        [1.3599870e-03, 1.4517818e-03, 5.9994683e-04, ..., 1.7360185e-03,\n",
       "         1.7360185e-03, 1.7360185e-03],\n",
       "        [1.3599870e-03, 1.4517818e-03, 5.9994683e-04, ..., 1.7360185e-03,\n",
       "         1.7360185e-03, 1.7360185e-03],\n",
       "        [1.3599870e-03, 1.4517818e-03, 5.9994683e-04, ..., 1.7360185e-03,\n",
       "         1.7360185e-03, 1.7360185e-03]], dtype=float32))"
      ]
     },
     "execution_count": 430,
     "metadata": {},
     "output_type": "execute_result"
    }
   ],
   "source": [
    "# Example Usage: Visualizing attention for different types of reviews\n",
    "\n",
    "# Example 1: Simple positive review\n",
    "print(\"Example 1: Simple positive review\")\n",
    "predict_and_visualize_attention(\n",
    "    \"this movie was fantastic and amazing\",\n",
    "    model, word_to_idx, SEQUENCE_LENGTH, glove, torch.device(DEVICE)\n",
    ")\n",
    "\n",
    "print(\"\\n\" + \"=\"*50 + \"\\n\")\n",
    "\n",
    "# Example 2: Negative review\n",
    "print(\"Example 2: Negative review\")\n",
    "predict_and_visualize_attention(\n",
    "    \"this movie was terrible and boring\",\n",
    "    model, word_to_idx, SEQUENCE_LENGTH, glove, torch.device(DEVICE)\n",
    ")\n",
    "\n",
    "print(\"\\n\" + \"=\"*50 + \"\\n\")\n",
    "\n",
    "# Example 3: More complex review with contrasting elements\n",
    "print(\"Example 3: Complex review with contrasting elements\")\n",
    "predict_and_visualize_attention(\n",
    "    \"the film was incredibly long but the acting was superb\",\n",
    "    model, word_to_idx, SEQUENCE_LENGTH, glove, torch.device(DEVICE)\n",
    ")\n"
   ]
  },
  {
   "cell_type": "markdown",
   "id": "bae8a85b",
   "metadata": {
    "vscode": {
     "languageId": "raw"
    }
   },
   "source": [
    "## Understanding the Attention Visualization\n",
    "\n",
    "The heatmaps above show how the self-attention mechanism works in practice:\n",
    "\n",
    "1. **Bright spots** indicate strong attention - these are word pairs that the model considers important for understanding the text\n",
    "2. **Diagonal elements** (words attending to themselves) are often bright, which is normal in self-attention\n",
    "3. **Sentiment-relevant words** often have strong connections to each other (e.g., \"fantastic\" and \"amazing\" in positive reviews)\n",
    "4. **Contrasting elements** in complex reviews may show interesting patterns (e.g., \"long\" vs \"superb\" in the third example)\n",
    "\n",
    "This visualization helps us understand:\n",
    "- Which words the model considers most important\n",
    "- How the model captures relationships between words\n",
    "- Whether the attention patterns make intuitive sense for sentiment analysis\n",
    "\n",
    "The attention mechanism allows the model to focus on relevant parts of the input when making predictions, similar to how humans might emphasize certain words when reading a review.\n"
   ]
  }
 ],
 "metadata": {
  "kernelspec": {
   "display_name": ".venv",
   "language": "python",
   "name": "python3"
  },
  "language_info": {
   "codemirror_mode": {
    "name": "ipython",
    "version": 3
   },
   "file_extension": ".py",
   "mimetype": "text/x-python",
   "name": "python",
   "nbconvert_exporter": "python",
   "pygments_lexer": "ipython3",
   "version": "3.12.3"
  }
 },
 "nbformat": 4,
 "nbformat_minor": 5
}
